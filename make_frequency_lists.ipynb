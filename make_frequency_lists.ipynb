{
 "cells": [
  {
   "cell_type": "code",
   "execution_count": 1,
   "id": "15ae7196-7382-43a8-9501-5d893668eadc",
   "metadata": {},
   "outputs": [],
   "source": [
    "import dhlab as dh"
   ]
  },
  {
   "cell_type": "code",
   "execution_count": null,
   "id": "a73bc378-433f-40a8-b47c-e55768186835",
   "metadata": {},
   "outputs": [],
   "source": [
    "# sample 100 documents from each year from 2014 onwards"
   ]
  },
  {
   "cell_type": "code",
   "execution_count": null,
   "id": "123cffc0-6e91-42b7-a17c-6884a62f29fd",
   "metadata": {},
   "outputs": [],
   "source": [
    "aftenposten = dh.Corpus(doctype=\"digavis\", title=\"aftenposten\", from_year=2014, to_year=2026, limit_by_year=True, limit=100)\n",
    "klassekampen = dh.Corpus(doctype=\"digavis\", title=\"klassekampen\", from_year=2014, to_year=2026, limit_by_year=True, limit=100)\n",
    "dagsavisen = dh.Corpus(doctype=\"digavis\", title=\"dagsavisen\", from_year=2014, to_year=2026, limit_by_year=True, limit=100)"
   ]
  },
  {
   "cell_type": "code",
   "execution_count": null,
   "id": "42b25560-e664-4997-930d-991dc711aa0b",
   "metadata": {},
   "outputs": [],
   "source": [
    "# count and create DTM\n",
    "aftenposten_count = aftenposten.count(sparse=True)\n",
    "aftenposten_sum = aftenposten_count.sum()\n",
    "klassekampen_count = klassekampen.count(sparse=True)\n",
    "klassekampen_sum = klassekampen_count.sum()\n",
    "dagsavisen_count = dagsavisen.count(sparse=True)\n",
    "dagsavisen_sum = dagsavisen_count.sum()"
   ]
  },
  {
   "cell_type": "code",
   "execution_count": null,
   "id": "929a8539-00be-4a71-b64c-2e8657ff291a",
   "metadata": {},
   "outputs": [],
   "source": [
    "aftenposten_words = aftenposten_sum.frame.copy()\n",
    "klassekampen_words = klassekampen_sum.frame.copy()\n",
    "dagsavisen_words = dagsavisen_sum.frame.copy()"
   ]
  },
  {
   "cell_type": "code",
   "execution_count": null,
   "id": "136fa426-74b3-4dea-90d8-65ede515fea9",
   "metadata": {},
   "outputs": [],
   "source": [
    "# calculate relative frequencies\n",
    "aftenposten_words[\"relfreq\"] = aftenposten_words[\"freq\"] / int(aftenposten_words.sum())\n",
    "klassekampen_words[\"relfreq\"] = klassekampen_words[\"freq\"] / int(klassekampen_words.sum())\n",
    "dagsavisen_words[\"relfreq\"] = dagsavisen_words[\"freq\"] / int(dagsavisen_words.sum())"
   ]
  },
  {
   "cell_type": "code",
   "execution_count": null,
   "id": "90ca7469-3209-4830-8895-2c489ffcc961",
   "metadata": {},
   "outputs": [],
   "source": [
    "# dump to disk\n",
    "aftenposten_words.to_csv(\"AP_words.csv\")\n",
    "klassekampen_words.to_csv(\"KK_words.csv\")\n",
    "dagsavisen_words.to_csv(\"DA_words.csv\")"
   ]
  }
 ],
 "metadata": {
  "kernelspec": {
   "display_name": "Python 3 (ipykernel)",
   "language": "python",
   "name": "python3"
  },
  "language_info": {
   "codemirror_mode": {
    "name": "ipython",
    "version": 3
   },
   "file_extension": ".py",
   "mimetype": "text/x-python",
   "name": "python",
   "nbconvert_exporter": "python",
   "pygments_lexer": "ipython3",
   "version": "3.12.3"
  }
 },
 "nbformat": 4,
 "nbformat_minor": 5
}
